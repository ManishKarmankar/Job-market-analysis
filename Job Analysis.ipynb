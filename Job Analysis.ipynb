{
 "cells": [
  {
   "cell_type": "markdown",
   "id": "859d2c69-a75d-4cf2-9181-fbaf79dda5c9",
   "metadata": {},
   "source": [
    "The dataset shall be cleaned through the following processes.\n",
    "\n",
    "     1.Checking the number of columns\n",
    "     2. Changing misplet column names to the correct names\n",
    "     3. checking for missing values\n",
    "     4. checking for dublicate values\n",
    "     5. checking outliers"
   ]
  },
  {
   "cell_type": "code",
   "execution_count": 4,
   "id": "48e8d4c7-7f76-4866-9e42-55677463affb",
   "metadata": {},
   "outputs": [],
   "source": [
    "# Importing neccesarry Libraries\n",
    "import pandas as pd\n",
    "import seaborn as sns"
   ]
  },
  {
   "cell_type": "code",
   "execution_count": 7,
   "id": "f1f8ae4a-b5a1-4e5a-b473-de5e500a14a1",
   "metadata": {},
   "outputs": [],
   "source": [
    "# Read the file\n",
    "df = pd.read_csv(\"Job Market Analysis.csv\")"
   ]
  },
  {
   "cell_type": "code",
   "execution_count": 8,
   "id": "b9b99d29-b340-4828-a5d9-8e0bb6c90638",
   "metadata": {},
   "outputs": [
    {
     "data": {
      "text/html": [
       "<div>\n",
       "<style scoped>\n",
       "    .dataframe tbody tr th:only-of-type {\n",
       "        vertical-align: middle;\n",
       "    }\n",
       "\n",
       "    .dataframe tbody tr th {\n",
       "        vertical-align: top;\n",
       "    }\n",
       "\n",
       "    .dataframe thead th {\n",
       "        text-align: right;\n",
       "    }\n",
       "</style>\n",
       "<table border=\"1\" class=\"dataframe\">\n",
       "  <thead>\n",
       "    <tr style=\"text-align: right;\">\n",
       "      <th></th>\n",
       "      <th>ID</th>\n",
       "      <th>Job_Title</th>\n",
       "      <th>Salary_Estimate</th>\n",
       "      <th>FIELD4</th>\n",
       "      <th>Rating</th>\n",
       "      <th>Company_Name</th>\n",
       "      <th>Location</th>\n",
       "      <th>Headquarters</th>\n",
       "      <th>Size</th>\n",
       "      <th>Founded</th>\n",
       "      <th>...</th>\n",
       "      <th>tensor</th>\n",
       "      <th>hadoop</th>\n",
       "      <th>tableau</th>\n",
       "      <th>bi</th>\n",
       "      <th>flink</th>\n",
       "      <th>mongo</th>\n",
       "      <th>google_an</th>\n",
       "      <th>job_title_sim</th>\n",
       "      <th>seniority_by_title</th>\n",
       "      <th>Degree</th>\n",
       "    </tr>\n",
       "  </thead>\n",
       "  <tbody>\n",
       "    <tr>\n",
       "      <th>0</th>\n",
       "      <td>0</td>\n",
       "      <td>Data Scientist</td>\n",
       "      <td>$53K-$91K (Glassdoor est.)</td>\n",
       "      <td>NaN</td>\n",
       "      <td>3.8</td>\n",
       "      <td>Tecolote Research\\n3.8</td>\n",
       "      <td>Albuquerque, NM</td>\n",
       "      <td>Goleta, CA</td>\n",
       "      <td>501 - 1000</td>\n",
       "      <td>1973</td>\n",
       "      <td>...</td>\n",
       "      <td>0</td>\n",
       "      <td>0</td>\n",
       "      <td>1</td>\n",
       "      <td>1</td>\n",
       "      <td>0</td>\n",
       "      <td>0</td>\n",
       "      <td>0</td>\n",
       "      <td>data scientist</td>\n",
       "      <td>na</td>\n",
       "      <td>M</td>\n",
       "    </tr>\n",
       "    <tr>\n",
       "      <th>1</th>\n",
       "      <td>1</td>\n",
       "      <td>Healthcare Data Scientist</td>\n",
       "      <td>$63K-$112K (Glassdoor est.)</td>\n",
       "      <td>NaN</td>\n",
       "      <td>3.4</td>\n",
       "      <td>University of Maryland Medical System\\n3.4</td>\n",
       "      <td>Linthicum, MD</td>\n",
       "      <td>Baltimore, MD</td>\n",
       "      <td>10000+</td>\n",
       "      <td>1984</td>\n",
       "      <td>...</td>\n",
       "      <td>0</td>\n",
       "      <td>0</td>\n",
       "      <td>0</td>\n",
       "      <td>0</td>\n",
       "      <td>0</td>\n",
       "      <td>0</td>\n",
       "      <td>0</td>\n",
       "      <td>data scientist</td>\n",
       "      <td>na</td>\n",
       "      <td>M</td>\n",
       "    </tr>\n",
       "    <tr>\n",
       "      <th>2</th>\n",
       "      <td>2</td>\n",
       "      <td>Data Scientist</td>\n",
       "      <td>$80K-$90K (Glassdoor est.)</td>\n",
       "      <td>NaN</td>\n",
       "      <td>4.8</td>\n",
       "      <td>KnowBe4\\n4.8</td>\n",
       "      <td>Clearwater, FL</td>\n",
       "      <td>Clearwater, FL</td>\n",
       "      <td>501 - 1000</td>\n",
       "      <td>2010</td>\n",
       "      <td>...</td>\n",
       "      <td>0</td>\n",
       "      <td>0</td>\n",
       "      <td>0</td>\n",
       "      <td>0</td>\n",
       "      <td>0</td>\n",
       "      <td>0</td>\n",
       "      <td>0</td>\n",
       "      <td>data scientist</td>\n",
       "      <td>na</td>\n",
       "      <td>M</td>\n",
       "    </tr>\n",
       "    <tr>\n",
       "      <th>3</th>\n",
       "      <td>3</td>\n",
       "      <td>Data Scientist</td>\n",
       "      <td>$56K-$97K (Glassdoor est.)</td>\n",
       "      <td>NaN</td>\n",
       "      <td>3.8</td>\n",
       "      <td>PNNL\\n3.8</td>\n",
       "      <td>Richland, WA</td>\n",
       "      <td>Richland, WA</td>\n",
       "      <td>1001 - 5000</td>\n",
       "      <td>1965</td>\n",
       "      <td>...</td>\n",
       "      <td>0</td>\n",
       "      <td>0</td>\n",
       "      <td>0</td>\n",
       "      <td>0</td>\n",
       "      <td>0</td>\n",
       "      <td>0</td>\n",
       "      <td>0</td>\n",
       "      <td>data scientist</td>\n",
       "      <td>na</td>\n",
       "      <td>na</td>\n",
       "    </tr>\n",
       "    <tr>\n",
       "      <th>4</th>\n",
       "      <td>4</td>\n",
       "      <td>Data Scientist</td>\n",
       "      <td>$86K-$143K (Glassdoor est.)</td>\n",
       "      <td>NaN</td>\n",
       "      <td>2.9</td>\n",
       "      <td>Affinity Solutions\\n2.9</td>\n",
       "      <td>New York, NY</td>\n",
       "      <td>New York, NY</td>\n",
       "      <td>51 - 200</td>\n",
       "      <td>1998</td>\n",
       "      <td>...</td>\n",
       "      <td>0</td>\n",
       "      <td>0</td>\n",
       "      <td>0</td>\n",
       "      <td>0</td>\n",
       "      <td>0</td>\n",
       "      <td>0</td>\n",
       "      <td>0</td>\n",
       "      <td>data scientist</td>\n",
       "      <td>na</td>\n",
       "      <td>na</td>\n",
       "    </tr>\n",
       "  </tbody>\n",
       "</table>\n",
       "<p>5 rows × 42 columns</p>\n",
       "</div>"
      ],
      "text/plain": [
       "   ID                  Job_Title              Salary_Estimate  FIELD4  Rating  \\\n",
       "0   0             Data Scientist   $53K-$91K (Glassdoor est.)     NaN     3.8   \n",
       "1   1  Healthcare Data Scientist  $63K-$112K (Glassdoor est.)     NaN     3.4   \n",
       "2   2             Data Scientist   $80K-$90K (Glassdoor est.)     NaN     4.8   \n",
       "3   3             Data Scientist   $56K-$97K (Glassdoor est.)     NaN     3.8   \n",
       "4   4             Data Scientist  $86K-$143K (Glassdoor est.)     NaN     2.9   \n",
       "\n",
       "                                 Company_Name         Location  \\\n",
       "0                      Tecolote Research\\n3.8  Albuquerque, NM   \n",
       "1  University of Maryland Medical System\\n3.4    Linthicum, MD   \n",
       "2                                KnowBe4\\n4.8   Clearwater, FL   \n",
       "3                                   PNNL\\n3.8     Richland, WA   \n",
       "4                     Affinity Solutions\\n2.9     New York, NY   \n",
       "\n",
       "     Headquarters         Size  Founded  ... tensor hadoop tableau bi flink  \\\n",
       "0      Goleta, CA   501 - 1000     1973  ...      0      0       1  1     0   \n",
       "1   Baltimore, MD       10000+     1984  ...      0      0       0  0     0   \n",
       "2  Clearwater, FL   501 - 1000     2010  ...      0      0       0  0     0   \n",
       "3    Richland, WA  1001 - 5000     1965  ...      0      0       0  0     0   \n",
       "4    New York, NY     51 - 200     1998  ...      0      0       0  0     0   \n",
       "\n",
       "   mongo  google_an   job_title_sim  seniority_by_title  Degree  \n",
       "0      0          0  data scientist                  na       M  \n",
       "1      0          0  data scientist                  na       M  \n",
       "2      0          0  data scientist                  na       M  \n",
       "3      0          0  data scientist                  na      na  \n",
       "4      0          0  data scientist                  na      na  \n",
       "\n",
       "[5 rows x 42 columns]"
      ]
     },
     "execution_count": 8,
     "metadata": {},
     "output_type": "execute_result"
    }
   ],
   "source": [
    "# Top records of the dataset\n",
    "df.head()"
   ]
  },
  {
   "cell_type": "code",
   "execution_count": 9,
   "id": "10c83796-f3ee-4524-af58-e262785a196f",
   "metadata": {},
   "outputs": [
    {
     "data": {
      "text/plain": [
       "Index(['ID', 'Job_Title', 'Salary_Estimate', 'FIELD4', 'Rating',\n",
       "       'Company_Name', 'Location', 'Headquarters', 'Size', 'Founded',\n",
       "       'Type_of_ownership', 'Industry', 'Sector', 'Revenue', 'Competitors',\n",
       "       'Hourly', 'Employer_provided', 'Lower_Salary', 'Upper_Salary',\n",
       "       'Avg_SalaryK', 'company_txt', 'Job_Location', 'Age', 'Python', 'spark',\n",
       "       'aws', 'excel', 'sql_', 'sas', 'keras', 'pytorch', 'scikit', 'tensor',\n",
       "       'hadoop', 'tableau', 'bi', 'flink', 'mongo', 'google_an',\n",
       "       'job_title_sim', 'seniority_by_title', 'Degree'],\n",
       "      dtype='object')"
      ]
     },
     "execution_count": 9,
     "metadata": {},
     "output_type": "execute_result"
    }
   ],
   "source": [
    "# Checking for number of columns\n",
    "df.columns"
   ]
  },
  {
   "cell_type": "code",
   "execution_count": 15,
   "id": "8ecd6485-7b14-4cf9-adf4-a36efaa4364a",
   "metadata": {},
   "outputs": [
    {
     "data": {
      "text/plain": [
       "ID                      0\n",
       "Job_Title               0\n",
       "Salary_Estimate         0\n",
       "FIELD4                742\n",
       "Rating                  0\n",
       "Company_Name            0\n",
       "Location                0\n",
       "Headquarters            0\n",
       "Size                    0\n",
       "Founded                 0\n",
       "Type_of_ownership       0\n",
       "Industry                0\n",
       "Sector                  0\n",
       "Revenue                 0\n",
       "Competitors             0\n",
       "Hourly                  0\n",
       "Employer_provided       0\n",
       "Lower_Salary            0\n",
       "Upper_Salary            0\n",
       "Avg_SalaryK             0\n",
       "company_txt             0\n",
       "Job_Location            0\n",
       "Age                     0\n",
       "Python                  0\n",
       "spark                   0\n",
       "aws                     0\n",
       "excel                   0\n",
       "sql_                    0\n",
       "sas                     0\n",
       "keras                   0\n",
       "pytorch                 0\n",
       "scikit                  0\n",
       "tensor                  0\n",
       "hadoop                  0\n",
       "tableau                 0\n",
       "bi                      0\n",
       "flink                   0\n",
       "mongo                   0\n",
       "google_an               0\n",
       "job_title_sim           0\n",
       "seniority_by_title      0\n",
       "Degree                  0\n",
       "dtype: int64"
      ]
     },
     "execution_count": 15,
     "metadata": {},
     "output_type": "execute_result"
    }
   ],
   "source": [
    "# To check for missing values\n",
    "df.isnull().sum()"
   ]
  },
  {
   "cell_type": "code",
   "execution_count": 16,
   "id": "2278eccf-b2a0-486a-a84d-00a882774e3b",
   "metadata": {},
   "outputs": [
    {
     "data": {
      "text/plain": [
       "ID                    0\n",
       "Job_Title             0\n",
       "Salary_Estimate       0\n",
       "FIELD4                0\n",
       "Rating                0\n",
       "Company_Name          0\n",
       "Location              0\n",
       "Headquarters          0\n",
       "Size                  0\n",
       "Founded               0\n",
       "Type_of_ownership     0\n",
       "Industry              0\n",
       "Sector                0\n",
       "Revenue               0\n",
       "Competitors           0\n",
       "Hourly                0\n",
       "Employer_provided     0\n",
       "Lower_Salary          0\n",
       "Upper_Salary          0\n",
       "Avg_SalaryK           0\n",
       "company_txt           0\n",
       "Job_Location          0\n",
       "Age                   0\n",
       "Python                0\n",
       "spark                 0\n",
       "aws                   0\n",
       "excel                 0\n",
       "sql_                  0\n",
       "sas                   0\n",
       "keras                 0\n",
       "pytorch               0\n",
       "scikit                0\n",
       "tensor                0\n",
       "hadoop                0\n",
       "tableau               0\n",
       "bi                    0\n",
       "flink                 0\n",
       "mongo                 0\n",
       "google_an             0\n",
       "job_title_sim         0\n",
       "seniority_by_title    0\n",
       "Degree                0\n",
       "dtype: int64"
      ]
     },
     "execution_count": 16,
     "metadata": {},
     "output_type": "execute_result"
    }
   ],
   "source": [
    "# Dropping the missing values of other columns\n",
    "df1 = df.dropna()\n",
    "df1.isnull().sum()"
   ]
  },
  {
   "cell_type": "code",
   "execution_count": 19,
   "id": "fee6b451-ee35-4e8e-9e5e-a272091dd0e1",
   "metadata": {},
   "outputs": [
    {
     "data": {
      "text/plain": [
       "Index(['ID', 'Job_Title', 'Salary_Estimate', 'Rating', 'Company_Name',\n",
       "       'Location', 'Headquarters', 'Size', 'Founded', 'Type_of_ownership',\n",
       "       'Industry', 'Sector', 'Revenue', 'Competitors', 'Hourly',\n",
       "       'Employer_provided', 'Lower_Salary', 'Upper_Salary', 'Avg_SalaryK',\n",
       "       'company_txt', 'Job_Location', 'Age', 'Python', 'spark', 'aws', 'excel',\n",
       "       'sql_', 'sas', 'keras', 'pytorch', 'scikit', 'tensor', 'hadoop',\n",
       "       'tableau', 'bi', 'flink', 'mongo', 'google_an', 'job_title_sim',\n",
       "       'seniority_by_title', 'Degree'],\n",
       "      dtype='object')"
      ]
     },
     "execution_count": 19,
     "metadata": {},
     "output_type": "execute_result"
    }
   ],
   "source": [
    "# Checking for number od columns\n",
    "df.columns"
   ]
  },
  {
   "cell_type": "code",
   "execution_count": 20,
   "id": "abfad921-0920-4809-82f2-03713d76a5b5",
   "metadata": {},
   "outputs": [
    {
     "name": "stdout",
     "output_type": "stream",
     "text": [
      "<class 'pandas.core.frame.DataFrame'>\n",
      "RangeIndex: 742 entries, 0 to 741\n",
      "Data columns (total 41 columns):\n",
      " #   Column              Non-Null Count  Dtype  \n",
      "---  ------              --------------  -----  \n",
      " 0   ID                  742 non-null    int64  \n",
      " 1   Job_Title           742 non-null    object \n",
      " 2   Salary_Estimate     742 non-null    object \n",
      " 3   Rating              742 non-null    float64\n",
      " 4   Company_Name        742 non-null    object \n",
      " 5   Location            742 non-null    object \n",
      " 6   Headquarters        742 non-null    object \n",
      " 7   Size                742 non-null    object \n",
      " 8   Founded             742 non-null    int64  \n",
      " 9   Type_of_ownership   742 non-null    object \n",
      " 10  Industry            742 non-null    object \n",
      " 11  Sector              742 non-null    object \n",
      " 12  Revenue             742 non-null    object \n",
      " 13  Competitors         742 non-null    object \n",
      " 14  Hourly              742 non-null    int64  \n",
      " 15  Employer_provided   742 non-null    int64  \n",
      " 16  Lower_Salary        742 non-null    int64  \n",
      " 17  Upper_Salary        742 non-null    int64  \n",
      " 18  Avg_SalaryK         742 non-null    float64\n",
      " 19  company_txt         742 non-null    object \n",
      " 20  Job_Location        742 non-null    object \n",
      " 21  Age                 742 non-null    int64  \n",
      " 22  Python              742 non-null    int64  \n",
      " 23  spark               742 non-null    int64  \n",
      " 24  aws                 742 non-null    int64  \n",
      " 25  excel               742 non-null    int64  \n",
      " 26  sql_                742 non-null    int64  \n",
      " 27  sas                 742 non-null    int64  \n",
      " 28  keras               742 non-null    int64  \n",
      " 29  pytorch             742 non-null    int64  \n",
      " 30  scikit              742 non-null    int64  \n",
      " 31  tensor              742 non-null    int64  \n",
      " 32  hadoop              742 non-null    int64  \n",
      " 33  tableau             742 non-null    int64  \n",
      " 34  bi                  742 non-null    int64  \n",
      " 35  flink               742 non-null    int64  \n",
      " 36  mongo               742 non-null    int64  \n",
      " 37  google_an           742 non-null    int64  \n",
      " 38  job_title_sim       742 non-null    object \n",
      " 39  seniority_by_title  742 non-null    object \n",
      " 40  Degree              742 non-null    object \n",
      "dtypes: float64(2), int64(23), object(16)\n",
      "memory usage: 237.8+ KB\n"
     ]
    }
   ],
   "source": [
    "# Check for information cocerning the dataset\n",
    "df.info()"
   ]
  },
  {
   "cell_type": "code",
   "execution_count": 23,
   "id": "dc6667bc-0228-4108-85d7-ce5b368026ca",
   "metadata": {},
   "outputs": [
    {
     "data": {
      "text/plain": [
       "<Axes: >"
      ]
     },
     "execution_count": 23,
     "metadata": {},
     "output_type": "execute_result"
    },
    {
     "data": {
      "image/png": "[encoded data removed]",
      "text/plain": [
       "<Figure size 640x480 with 1 Axes>"
      ]
     },
     "metadata": {},
     "output_type": "display_data"
    }
   ],
   "source": [
    "# Checking for outelier in the dataset\n",
    "sns.boxplot(df1[\"Salary_Estimate\"])"
   ]
  },
  {
   "cell_type": "code",
   "execution_count": 32,
   "id": "e4637613-37e6-4379-94e9-d179e1f5622f",
   "metadata": {},
   "outputs": [
    {
     "data": {
      "text/plain": [
       "nan"
      ]
     },
     "execution_count": 32,
     "metadata": {},
     "output_type": "execute_result"
    }
   ],
   "source": [
    "# Choose the maximum quantile to fill the outlier\n",
    "max_Rating = df1[\"Rating\"].quantile(0.995)\n",
    "max_Rating"
   ]
  },
  {
   "cell_type": "code",
   "execution_count": 30,
   "id": "c9dd33a4-b736-4c41-8a62-59554381753c",
   "metadata": {},
   "outputs": [
    {
     "data": {
      "text/html": [
       "<div>\n",
       "<style scoped>\n",
       "    .dataframe tbody tr th:only-of-type {\n",
       "        vertical-align: middle;\n",
       "    }\n",
       "\n",
       "    .dataframe tbody tr th {\n",
       "        vertical-align: top;\n",
       "    }\n",
       "\n",
       "    .dataframe thead th {\n",
       "        text-align: right;\n",
       "    }\n",
       "</style>\n",
       "<table border=\"1\" class=\"dataframe\">\n",
       "  <thead>\n",
       "    <tr style=\"text-align: right;\">\n",
       "      <th></th>\n",
       "      <th>ID</th>\n",
       "      <th>Job_Title</th>\n",
       "      <th>Salary_Estimate</th>\n",
       "      <th>FIELD4</th>\n",
       "      <th>Rating</th>\n",
       "      <th>Company_Name</th>\n",
       "      <th>Location</th>\n",
       "      <th>Headquarters</th>\n",
       "      <th>Size</th>\n",
       "      <th>Founded</th>\n",
       "      <th>...</th>\n",
       "      <th>tensor</th>\n",
       "      <th>hadoop</th>\n",
       "      <th>tableau</th>\n",
       "      <th>bi</th>\n",
       "      <th>flink</th>\n",
       "      <th>mongo</th>\n",
       "      <th>google_an</th>\n",
       "      <th>job_title_sim</th>\n",
       "      <th>seniority_by_title</th>\n",
       "      <th>Degree</th>\n",
       "    </tr>\n",
       "  </thead>\n",
       "  <tbody>\n",
       "  </tbody>\n",
       "</table>\n",
       "<p>0 rows × 42 columns</p>\n",
       "</div>"
      ],
      "text/plain": [
       "Empty DataFrame\n",
       "Columns: [ID, Job_Title, Salary_Estimate, FIELD4, Rating, Company_Name, Location, Headquarters, Size, Founded, Type_of_ownership, Industry, Sector, Revenue, Competitors, Hourly, Employer_provided, Lower_Salary, Upper_Salary, Avg_SalaryK, company_txt, Job_Location, Age, Python, spark, aws, excel, sql_, sas, keras, pytorch, scikit, tensor, hadoop, tableau, bi, flink, mongo, google_an, job_title_sim, seniority_by_title, Degree]\n",
       "Index: []\n",
       "\n",
       "[0 rows x 42 columns]"
      ]
     },
     "execution_count": 30,
     "metadata": {},
     "output_type": "execute_result"
    }
   ],
   "source": [
    "df1[df1[\"Avg_SalaryK\"] > max_Avg_SalaryK]"
   ]
  },
  {
   "cell_type": "code",
   "execution_count": 34,
   "id": "2467a8fd-bb50-4ffe-b2b2-dd5bcdb870fd",
   "metadata": {},
   "outputs": [
    {
     "data": {
      "text/plain": [
       "Series([], dtype: bool)"
      ]
     },
     "execution_count": 34,
     "metadata": {},
     "output_type": "execute_result"
    }
   ],
   "source": [
    "# Checking for duplicate values\n",
    "df1.duplicated()"
   ]
  },
  {
   "cell_type": "code",
   "execution_count": 35,
   "id": "b50b4901-5617-4de6-9b2b-a10c59c55dea",
   "metadata": {},
   "outputs": [],
   "source": [
    "df2 = df1.drop_duplicates()"
   ]
  },
  {
   "cell_type": "code",
   "execution_count": 36,
   "id": "23f155bd-736e-42e9-b2a4-d7fab719e54e",
   "metadata": {},
   "outputs": [
    {
     "data": {
      "text/plain": [
       "0"
      ]
     },
     "execution_count": 36,
     "metadata": {},
     "output_type": "execute_result"
    }
   ],
   "source": [
    "# To confirm the change \n",
    "df2.duplicated().sum()"
   ]
  },
  {
   "cell_type": "code",
   "execution_count": 37,
   "id": "9f983d8d-673b-4ba9-accf-8aad2e63f79d",
   "metadata": {},
   "outputs": [],
   "source": [
    "# Saving the new dataset into a csv file\n",
    "df2.to_csv(\"Cleaned_job_analysis.csv\")"
   ]
  }
 ],
 "metadata": {
  "kernelspec": {
   "display_name": "Python 3 (ipykernel)",
   "language": "python",
   "name": "python3"
  },
  "language_info": {
   "codemirror_mode": {
    "name": "ipython",
    "version": 3
   },
   "file_extension": ".py",
   "mimetype": "text/x-python",
   "name": "python",
   "nbconvert_exporter": "python",
   "pygments_lexer": "ipython3",
   "version": "3.12.7"
  }
 },
 "nbformat": 4,
 "nbformat_minor": 5
}
